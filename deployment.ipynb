{
 "cells": [
  {
   "cell_type": "code",
   "execution_count": null,
   "metadata": {
    "id": "MNUTIQFbyn4d"
   },
   "outputs": [],
   "source": []
  },
  {
   "cell_type": "code",
   "execution_count": 2,
   "metadata": {
    "id": "sy5EcZ65lzy-"
   },
   "outputs": [],
   "source": [
    "import pandas as pd      \n",
    "import numpy as np \n",
    "from sklearn.metrics import mean_squared_error, mean_absolute_error, r2_score\n",
    "from sklearn.model_selection import train_test_split\n",
    "from sklearn.linear_model import LinearRegression\n",
    "import pickle"
   ]
  },
  {
   "cell_type": "code",
   "execution_count": 3,
   "metadata": {
    "id": "-AJL3lU-lzzA"
   },
   "outputs": [],
   "source": [
    "def eval_metrics(actual, pred):\n",
    "    rmse = np.sqrt(mean_squared_error(actual, pred))\n",
    "    mae = mean_absolute_error(actual, pred)\n",
    "    mse = mean_squared_error(actual, pred)\n",
    "    score = r2_score(actual, pred)\n",
    "    return print(\" r2_score:\", score, \"\\n\",\"mae:\", mae, \"\\n\",\"mse:\",mse, \"\\n\",\"rmse:\",rmse)"
   ]
  },
  {
   "cell_type": "code",
   "execution_count": 4,
   "metadata": {
    "id": "kNoXWDeyyazZ",
    "outputId": "b617cec2-5be0-4fbd-f940-caae455a803d"
   },
   "outputs": [
    {
     "data": {
      "text/html": [
       "<div>\n",
       "<style scoped>\n",
       "    .dataframe tbody tr th:only-of-type {\n",
       "        vertical-align: middle;\n",
       "    }\n",
       "\n",
       "    .dataframe tbody tr th {\n",
       "        vertical-align: top;\n",
       "    }\n",
       "\n",
       "    .dataframe thead th {\n",
       "        text-align: right;\n",
       "    }\n",
       "</style>\n",
       "<table border=\"1\" class=\"dataframe\">\n",
       "  <thead>\n",
       "    <tr style=\"text-align: right;\">\n",
       "      <th></th>\n",
       "      <th>TV</th>\n",
       "      <th>radio</th>\n",
       "      <th>newspaper</th>\n",
       "      <th>sales</th>\n",
       "    </tr>\n",
       "  </thead>\n",
       "  <tbody>\n",
       "    <tr>\n",
       "      <th>0</th>\n",
       "      <td>230.1</td>\n",
       "      <td>37.8</td>\n",
       "      <td>69.2</td>\n",
       "      <td>22.1</td>\n",
       "    </tr>\n",
       "    <tr>\n",
       "      <th>1</th>\n",
       "      <td>44.5</td>\n",
       "      <td>39.3</td>\n",
       "      <td>45.1</td>\n",
       "      <td>10.4</td>\n",
       "    </tr>\n",
       "    <tr>\n",
       "      <th>2</th>\n",
       "      <td>17.2</td>\n",
       "      <td>45.9</td>\n",
       "      <td>69.3</td>\n",
       "      <td>9.3</td>\n",
       "    </tr>\n",
       "    <tr>\n",
       "      <th>3</th>\n",
       "      <td>151.5</td>\n",
       "      <td>41.3</td>\n",
       "      <td>58.5</td>\n",
       "      <td>18.5</td>\n",
       "    </tr>\n",
       "    <tr>\n",
       "      <th>4</th>\n",
       "      <td>180.8</td>\n",
       "      <td>10.8</td>\n",
       "      <td>58.4</td>\n",
       "      <td>12.9</td>\n",
       "    </tr>\n",
       "  </tbody>\n",
       "</table>\n",
       "</div>"
      ],
      "text/plain": [
       "      TV  radio  newspaper  sales\n",
       "0  230.1   37.8       69.2   22.1\n",
       "1   44.5   39.3       45.1   10.4\n",
       "2   17.2   45.9       69.3    9.3\n",
       "3  151.5   41.3       58.5   18.5\n",
       "4  180.8   10.8       58.4   12.9"
      ]
     },
     "execution_count": 4,
     "metadata": {},
     "output_type": "execute_result"
    }
   ],
   "source": [
    "df = pd.read_csv(\"Advertising.csv\")\n",
    "df.head()"
   ]
  },
  {
   "cell_type": "code",
   "execution_count": 5,
   "metadata": {
    "id": "m5YCa1j_yaza",
    "outputId": "43293c13-7910-4be9-d0b9-ff39ba8673ff"
   },
   "outputs": [
    {
     "name": "stdout",
     "output_type": "stream",
     "text": [
      "<class 'pandas.core.frame.DataFrame'>\n",
      "RangeIndex: 200 entries, 0 to 199\n",
      "Data columns (total 4 columns):\n",
      " #   Column     Non-Null Count  Dtype  \n",
      "---  ------     --------------  -----  \n",
      " 0   TV         200 non-null    float64\n",
      " 1   radio      200 non-null    float64\n",
      " 2   newspaper  200 non-null    float64\n",
      " 3   sales      200 non-null    float64\n",
      "dtypes: float64(4)\n",
      "memory usage: 6.4 KB\n"
     ]
    }
   ],
   "source": [
    "df.info()"
   ]
  },
  {
   "cell_type": "code",
   "execution_count": 6,
   "metadata": {
    "id": "ojUll31ZlzzD"
   },
   "outputs": [],
   "source": [
    "X= df.drop(\"sales\", axis=1)\n",
    "y= df[\"sales\"]\n",
    "X_train, X_test, y_train, y_test = train_test_split(X, y, test_size=0.3, random_state=42)\n",
    "model = LinearRegression()\n",
    "model.fit(X_train, y_train)\n",
    "filename = 'my_model'\n",
    "pickle.dump(model, open(filename, 'wb'))"
   ]
  },
  {
   "cell_type": "code",
   "execution_count": 7,
   "metadata": {
    "id": "m-Gz1Vovyaza",
    "outputId": "758c6208-6c5e-48a5-e2f1-e18e27f636cc"
   },
   "outputs": [
    {
     "data": {
      "text/html": [
       "<div>\n",
       "<style scoped>\n",
       "    .dataframe tbody tr th:only-of-type {\n",
       "        vertical-align: middle;\n",
       "    }\n",
       "\n",
       "    .dataframe tbody tr th {\n",
       "        vertical-align: top;\n",
       "    }\n",
       "\n",
       "    .dataframe thead th {\n",
       "        text-align: right;\n",
       "    }\n",
       "</style>\n",
       "<table border=\"1\" class=\"dataframe\">\n",
       "  <thead>\n",
       "    <tr style=\"text-align: right;\">\n",
       "      <th></th>\n",
       "      <th>TV</th>\n",
       "      <th>radio</th>\n",
       "      <th>newspaper</th>\n",
       "      <th>sales</th>\n",
       "    </tr>\n",
       "  </thead>\n",
       "  <tbody>\n",
       "    <tr>\n",
       "      <th>count</th>\n",
       "      <td>200.000000</td>\n",
       "      <td>200.000000</td>\n",
       "      <td>200.000000</td>\n",
       "      <td>200.000000</td>\n",
       "    </tr>\n",
       "    <tr>\n",
       "      <th>mean</th>\n",
       "      <td>147.042500</td>\n",
       "      <td>23.264000</td>\n",
       "      <td>30.554000</td>\n",
       "      <td>14.022500</td>\n",
       "    </tr>\n",
       "    <tr>\n",
       "      <th>std</th>\n",
       "      <td>85.854236</td>\n",
       "      <td>14.846809</td>\n",
       "      <td>21.778621</td>\n",
       "      <td>5.217457</td>\n",
       "    </tr>\n",
       "    <tr>\n",
       "      <th>min</th>\n",
       "      <td>0.700000</td>\n",
       "      <td>0.000000</td>\n",
       "      <td>0.300000</td>\n",
       "      <td>1.600000</td>\n",
       "    </tr>\n",
       "    <tr>\n",
       "      <th>25%</th>\n",
       "      <td>74.375000</td>\n",
       "      <td>9.975000</td>\n",
       "      <td>12.750000</td>\n",
       "      <td>10.375000</td>\n",
       "    </tr>\n",
       "    <tr>\n",
       "      <th>50%</th>\n",
       "      <td>149.750000</td>\n",
       "      <td>22.900000</td>\n",
       "      <td>25.750000</td>\n",
       "      <td>12.900000</td>\n",
       "    </tr>\n",
       "    <tr>\n",
       "      <th>75%</th>\n",
       "      <td>218.825000</td>\n",
       "      <td>36.525000</td>\n",
       "      <td>45.100000</td>\n",
       "      <td>17.400000</td>\n",
       "    </tr>\n",
       "    <tr>\n",
       "      <th>max</th>\n",
       "      <td>296.400000</td>\n",
       "      <td>49.600000</td>\n",
       "      <td>114.000000</td>\n",
       "      <td>27.000000</td>\n",
       "    </tr>\n",
       "  </tbody>\n",
       "</table>\n",
       "</div>"
      ],
      "text/plain": [
       "               TV       radio   newspaper       sales\n",
       "count  200.000000  200.000000  200.000000  200.000000\n",
       "mean   147.042500   23.264000   30.554000   14.022500\n",
       "std     85.854236   14.846809   21.778621    5.217457\n",
       "min      0.700000    0.000000    0.300000    1.600000\n",
       "25%     74.375000    9.975000   12.750000   10.375000\n",
       "50%    149.750000   22.900000   25.750000   12.900000\n",
       "75%    218.825000   36.525000   45.100000   17.400000\n",
       "max    296.400000   49.600000  114.000000   27.000000"
      ]
     },
     "execution_count": 7,
     "metadata": {},
     "output_type": "execute_result"
    }
   ],
   "source": [
    "df.describe()"
   ]
  },
  {
   "cell_type": "code",
   "execution_count": 8,
   "metadata": {
    "id": "U7FTTc6XlzzE",
    "outputId": "d69eaee2-231f-4ba0-f8a2-0a03f0fd9ed9"
   },
   "outputs": [
    {
     "name": "stdout",
     "output_type": "stream",
     "text": [
      " r2_score: 0.8609466508230368 \n",
      " mae: 1.5116692224549086 \n",
      " mse: 3.79679723671522 \n",
      " rmse: 1.9485372043446387\n"
     ]
    }
   ],
   "source": [
    "y_pred = model.predict(X_test)\n",
    "eval_metrics(y_test, y_pred)"
   ]
  },
  {
   "cell_type": "markdown",
   "metadata": {
    "id": "P2MKZLnKyazb"
   },
   "source": [
    "**deployment**"
   ]
  },
  {
   "cell_type": "code",
   "execution_count": 9,
   "metadata": {
    "id": "OaLvPy5qyazd"
   },
   "outputs": [],
   "source": [
    "final_model = pickle.load(open('my_model', 'rb'))"
   ]
  },
  {
   "cell_type": "code",
   "execution_count": 10,
   "metadata": {
    "id": "71tRDDEByaze",
    "outputId": "793071f5-5d4b-49c4-dbe6-0f61b634ec4a"
   },
   "outputs": [
    {
     "data": {
      "text/plain": [
       "['TV', 'radio', 'newspaper']"
      ]
     },
     "execution_count": 10,
     "metadata": {},
     "output_type": "execute_result"
    }
   ],
   "source": [
    "columns=list(X.columns)\n",
    "columns"
   ]
  },
  {
   "cell_type": "code",
   "execution_count": 11,
   "metadata": {
    "id": "drlsuNlJyaze"
   },
   "outputs": [],
   "source": [
    "my_dict = {\n",
    "    \"TV\": 150,\n",
    "    \"radio\": 25,\n",
    "    \"newspaper\": 30,\n",
    "}"
   ]
  },
  {
   "cell_type": "code",
   "execution_count": 12,
   "metadata": {
    "id": "Z8AAfSHByazf"
   },
   "outputs": [],
   "source": [
    "df = pd.DataFrame.from_dict([my_dict])"
   ]
  },
  {
   "cell_type": "code",
   "execution_count": 13,
   "metadata": {
    "id": "rIWNSwxSyazf",
    "outputId": "acdccea1-c57c-4c00-db06-d53ab4fed1d0"
   },
   "outputs": [
    {
     "data": {
      "text/html": [
       "<div>\n",
       "<style scoped>\n",
       "    .dataframe tbody tr th:only-of-type {\n",
       "        vertical-align: middle;\n",
       "    }\n",
       "\n",
       "    .dataframe tbody tr th {\n",
       "        vertical-align: top;\n",
       "    }\n",
       "\n",
       "    .dataframe thead th {\n",
       "        text-align: right;\n",
       "    }\n",
       "</style>\n",
       "<table border=\"1\" class=\"dataframe\">\n",
       "  <thead>\n",
       "    <tr style=\"text-align: right;\">\n",
       "      <th></th>\n",
       "      <th>TV</th>\n",
       "      <th>radio</th>\n",
       "      <th>newspaper</th>\n",
       "    </tr>\n",
       "  </thead>\n",
       "  <tbody>\n",
       "    <tr>\n",
       "      <th>0</th>\n",
       "      <td>150</td>\n",
       "      <td>25</td>\n",
       "      <td>30</td>\n",
       "    </tr>\n",
       "  </tbody>\n",
       "</table>\n",
       "</div>"
      ],
      "text/plain": [
       "    TV  radio  newspaper\n",
       "0  150     25         30"
      ]
     },
     "execution_count": 13,
     "metadata": {},
     "output_type": "execute_result"
    }
   ],
   "source": [
    "df"
   ]
  },
  {
   "cell_type": "code",
   "execution_count": 14,
   "metadata": {
    "id": "l-JTNWYCyazf",
    "outputId": "b7571b35-495e-41a2-cefa-af7439cf776e"
   },
   "outputs": [
    {
     "name": "stdout",
     "output_type": "stream",
     "text": [
      "[14.50650223]\n"
     ]
    }
   ],
   "source": [
    "prediction = final_model.predict(df)\n",
    "print(prediction)"
   ]
  },
  {
   "cell_type": "code",
   "execution_count": 15,
   "metadata": {
    "id": "08V-iAGsyazg",
    "outputId": "e4c6c469-4c98-47dc-8bc0-1dcaa9e56d3d"
   },
   "outputs": [
    {
     "name": "stdout",
     "output_type": "stream",
     "text": [
      "The estimated value of sales is 14. \n"
     ]
    }
   ],
   "source": [
    "print(\"The estimated value of sales is {}. \".format(int(prediction[0])))"
   ]
  },
  {
   "cell_type": "code",
   "execution_count": 17,
   "metadata": {
    "id": "-essWX-Vyazg",
    "outputId": "bf64c2b8-6333-4d5d-c863-0d0b9c66d398"
   },
   "outputs": [
    {
     "name": "stdout",
     "output_type": "stream",
     "text": [
      "Package                   Version\n",
      "------------------------- -----------\n",
      "altair                    4.2.2\n",
      "asttokens                 2.2.1\n",
      "attrs                     23.1.0\n",
      "backcall                  0.2.0\n",
      "blinker                   1.6.2\n",
      "cachetools                5.3.1\n",
      "certifi                   2023.7.22\n",
      "charset-normalizer        3.2.0\n",
      "click                     8.1.7\n",
      "colorama                  0.4.6\n",
      "comm                      0.1.4\n",
      "debugpy                   1.6.7.post1\n",
      "decorator                 5.1.1\n",
      "entrypoints               0.4\n",
      "executing                 1.2.0\n",
      "gitdb                     4.0.10\n",
      "GitPython                 3.1.32\n",
      "idna                      3.4\n",
      "importlib-metadata        6.8.0\n",
      "ipykernel                 6.25.1\n",
      "ipython                   8.14.0\n",
      "jedi                      0.19.0\n",
      "Jinja2                    3.1.2\n",
      "joblib                    1.3.2\n",
      "jsonschema                4.19.0\n",
      "jsonschema-specifications 2023.7.1\n",
      "jupyter_client            8.3.0\n",
      "jupyter_core              5.3.1\n",
      "markdown-it-py            3.0.0\n",
      "MarkupSafe                2.1.3\n",
      "matplotlib-inline         0.1.6\n",
      "mdurl                     0.1.2\n",
      "nest-asyncio              1.5.7\n",
      "numpy                     1.25.2\n",
      "packaging                 23.1\n",
      "pandas                    2.0.3\n",
      "parso                     0.8.3\n",
      "pickleshare               0.7.5\n",
      "Pillow                    10.0.0\n",
      "pip                       22.3.1\n",
      "platformdirs              3.10.0\n",
      "prompt-toolkit            3.0.39\n",
      "protobuf                  3.20.3\n",
      "psutil                    5.9.5\n",
      "pure-eval                 0.2.2\n",
      "pyarrow                   13.0.0\n",
      "pydeck                    0.8.1b0\n",
      "Pygments                  2.16.1\n",
      "Pympler                   1.0.1\n",
      "python-dateutil           2.8.2\n",
      "pytz                      2023.3\n",
      "pywin32                   306\n",
      "pyzmq                     25.1.1\n",
      "referencing               0.30.2\n",
      "requests                  2.31.0\n",
      "rich                      13.5.2\n",
      "rpds-py                   0.9.2\n",
      "scikit-learn              1.2.2\n",
      "scipy                     1.11.2\n",
      "setuptools                65.5.0\n",
      "six                       1.16.0\n",
      "smmap                     5.0.0\n",
      "stack-data                0.6.2\n",
      "streamlit                 1.22.0\n",
      "tenacity                  8.2.3\n",
      "threadpoolctl             3.2.0\n",
      "toml                      0.10.2\n",
      "toolz                     0.12.0\n",
      "tornado                   6.3.3\n",
      "traitlets                 5.9.0\n",
      "typing_extensions         4.7.1\n",
      "tzdata                    2023.3\n",
      "tzlocal                   5.0.1\n",
      "urllib3                   2.0.4\n",
      "validators                0.21.2\n",
      "watchdog                  3.0.0\n",
      "wcwidth                   0.2.6\n",
      "zipp                      3.16.2\n",
      "Note: you may need to restart the kernel to use updated packages.\n"
     ]
    },
    {
     "name": "stderr",
     "output_type": "stream",
     "text": [
      "\n",
      "[notice] A new release of pip available: 22.3.1 -> 23.2.1\n",
      "[notice] To update, run: python.exe -m pip install --upgrade pip\n"
     ]
    }
   ],
   "source": [
    "pip list"
   ]
  },
  {
   "cell_type": "code",
   "execution_count": 18,
   "metadata": {
    "id": "tB5Fy5Ofyazg",
    "outputId": "04eb1fb2-e6ca-405a-fe81-11b012a144e7"
   },
   "outputs": [
    {
     "name": "stdout",
     "output_type": "stream",
     "text": [
      "Requirement already satisfied: scikit-learn==1.2.2 in c:\\users\\wolfg\\onedrive\\desktop\\streamlit\\de_env2\\lib\\site-packages (from -r requirements.txt (line 1)) (1.2.2)\n",
      "Requirement already satisfied: streamlit==1.22.0 in c:\\users\\wolfg\\onedrive\\desktop\\streamlit\\de_env2\\lib\\site-packages (from -r requirements.txt (line 2)) (1.22.0)\n",
      "Requirement already satisfied: joblib>=1.1.1 in c:\\users\\wolfg\\onedrive\\desktop\\streamlit\\de_env2\\lib\\site-packages (from scikit-learn==1.2.2->-r requirements.txt (line 1)) (1.3.2)\n",
      "Requirement already satisfied: scipy>=1.3.2 in c:\\users\\wolfg\\onedrive\\desktop\\streamlit\\de_env2\\lib\\site-packages (from scikit-learn==1.2.2->-r requirements.txt (line 1)) (1.11.2)\n",
      "Requirement already satisfied: numpy>=1.17.3 in c:\\users\\wolfg\\onedrive\\desktop\\streamlit\\de_env2\\lib\\site-packages (from scikit-learn==1.2.2->-r requirements.txt (line 1)) (1.25.2)\n",
      "Requirement already satisfied: threadpoolctl>=2.0.0 in c:\\users\\wolfg\\onedrive\\desktop\\streamlit\\de_env2\\lib\\site-packages (from scikit-learn==1.2.2->-r requirements.txt (line 1)) (3.2.0)\n",
      "Requirement already satisfied: blinker>=1.0.0 in c:\\users\\wolfg\\onedrive\\desktop\\streamlit\\de_env2\\lib\\site-packages (from streamlit==1.22.0->-r requirements.txt (line 2)) (1.6.2)\n",
      "Requirement already satisfied: tzlocal>=1.1 in c:\\users\\wolfg\\onedrive\\desktop\\streamlit\\de_env2\\lib\\site-packages (from streamlit==1.22.0->-r requirements.txt (line 2)) (5.0.1)\n",
      "Requirement already satisfied: click>=7.0 in c:\\users\\wolfg\\onedrive\\desktop\\streamlit\\de_env2\\lib\\site-packages (from streamlit==1.22.0->-r requirements.txt (line 2)) (8.1.7)\n",
      "Requirement already satisfied: protobuf<4,>=3.12 in c:\\users\\wolfg\\onedrive\\desktop\\streamlit\\de_env2\\lib\\site-packages (from streamlit==1.22.0->-r requirements.txt (line 2)) (3.20.3)\n",
      "Requirement already satisfied: pyarrow>=4.0 in c:\\users\\wolfg\\onedrive\\desktop\\streamlit\\de_env2\\lib\\site-packages (from streamlit==1.22.0->-r requirements.txt (line 2)) (13.0.0)\n",
      "Requirement already satisfied: requests>=2.4 in c:\\users\\wolfg\\onedrive\\desktop\\streamlit\\de_env2\\lib\\site-packages (from streamlit==1.22.0->-r requirements.txt (line 2)) (2.31.0)\n",
      "Requirement already satisfied: altair<5,>=3.2.0 in c:\\users\\wolfg\\onedrive\\desktop\\streamlit\\de_env2\\lib\\site-packages (from streamlit==1.22.0->-r requirements.txt (line 2)) (4.2.2)\n",
      "Requirement already satisfied: packaging>=14.1 in c:\\users\\wolfg\\onedrive\\desktop\\streamlit\\de_env2\\lib\\site-packages (from streamlit==1.22.0->-r requirements.txt (line 2)) (23.1)\n",
      "Requirement already satisfied: rich>=10.11.0 in c:\\users\\wolfg\\onedrive\\desktop\\streamlit\\de_env2\\lib\\site-packages (from streamlit==1.22.0->-r requirements.txt (line 2)) (13.5.2)\n",
      "Requirement already satisfied: cachetools>=4.0 in c:\\users\\wolfg\\onedrive\\desktop\\streamlit\\de_env2\\lib\\site-packages (from streamlit==1.22.0->-r requirements.txt (line 2)) (5.3.1)\n",
      "Requirement already satisfied: pydeck>=0.1.dev5 in c:\\users\\wolfg\\onedrive\\desktop\\streamlit\\de_env2\\lib\\site-packages (from streamlit==1.22.0->-r requirements.txt (line 2)) (0.8.1b0)\n",
      "Requirement already satisfied: gitpython!=3.1.19 in c:\\users\\wolfg\\onedrive\\desktop\\streamlit\\de_env2\\lib\\site-packages (from streamlit==1.22.0->-r requirements.txt (line 2)) (3.1.32)\n",
      "Requirement already satisfied: tornado>=6.0.3 in c:\\users\\wolfg\\onedrive\\desktop\\streamlit\\de_env2\\lib\\site-packages (from streamlit==1.22.0->-r requirements.txt (line 2)) (6.3.3)\n",
      "Requirement already satisfied: typing-extensions>=3.10.0.0 in c:\\users\\wolfg\\onedrive\\desktop\\streamlit\\de_env2\\lib\\site-packages (from streamlit==1.22.0->-r requirements.txt (line 2)) (4.7.1)\n",
      "Requirement already satisfied: watchdog in c:\\users\\wolfg\\onedrive\\desktop\\streamlit\\de_env2\\lib\\site-packages (from streamlit==1.22.0->-r requirements.txt (line 2)) (3.0.0)\n",
      "Requirement already satisfied: importlib-metadata>=1.4 in c:\\users\\wolfg\\onedrive\\desktop\\streamlit\\de_env2\\lib\\site-packages (from streamlit==1.22.0->-r requirements.txt (line 2)) (6.8.0)\n",
      "Requirement already satisfied: toml in c:\\users\\wolfg\\onedrive\\desktop\\streamlit\\de_env2\\lib\\site-packages (from streamlit==1.22.0->-r requirements.txt (line 2)) (0.10.2)\n",
      "Requirement already satisfied: tenacity<9,>=8.0.0 in c:\\users\\wolfg\\onedrive\\desktop\\streamlit\\de_env2\\lib\\site-packages (from streamlit==1.22.0->-r requirements.txt (line 2)) (8.2.3)\n",
      "Requirement already satisfied: validators>=0.2 in c:\\users\\wolfg\\onedrive\\desktop\\streamlit\\de_env2\\lib\\site-packages (from streamlit==1.22.0->-r requirements.txt (line 2)) (0.21.2)\n",
      "Requirement already satisfied: pandas<3,>=0.25 in c:\\users\\wolfg\\onedrive\\desktop\\streamlit\\de_env2\\lib\\site-packages (from streamlit==1.22.0->-r requirements.txt (line 2)) (2.0.3)\n",
      "Requirement already satisfied: python-dateutil in c:\\users\\wolfg\\onedrive\\desktop\\streamlit\\de_env2\\lib\\site-packages (from streamlit==1.22.0->-r requirements.txt (line 2)) (2.8.2)\n",
      "Requirement already satisfied: pillow>=6.2.0 in c:\\users\\wolfg\\onedrive\\desktop\\streamlit\\de_env2\\lib\\site-packages (from streamlit==1.22.0->-r requirements.txt (line 2)) (10.0.0)\n",
      "Requirement already satisfied: pympler>=0.9 in c:\\users\\wolfg\\onedrive\\desktop\\streamlit\\de_env2\\lib\\site-packages (from streamlit==1.22.0->-r requirements.txt (line 2)) (1.0.1)\n",
      "Requirement already satisfied: jsonschema>=3.0 in c:\\users\\wolfg\\onedrive\\desktop\\streamlit\\de_env2\\lib\\site-packages (from altair<5,>=3.2.0->streamlit==1.22.0->-r requirements.txt (line 2)) (4.19.0)\n",
      "Requirement already satisfied: entrypoints in c:\\users\\wolfg\\onedrive\\desktop\\streamlit\\de_env2\\lib\\site-packages (from altair<5,>=3.2.0->streamlit==1.22.0->-r requirements.txt (line 2)) (0.4)\n",
      "Requirement already satisfied: toolz in c:\\users\\wolfg\\onedrive\\desktop\\streamlit\\de_env2\\lib\\site-packages (from altair<5,>=3.2.0->streamlit==1.22.0->-r requirements.txt (line 2)) (0.12.0)\n",
      "Requirement already satisfied: jinja2 in c:\\users\\wolfg\\onedrive\\desktop\\streamlit\\de_env2\\lib\\site-packages (from altair<5,>=3.2.0->streamlit==1.22.0->-r requirements.txt (line 2)) (3.1.2)\n",
      "Requirement already satisfied: colorama in c:\\users\\wolfg\\onedrive\\desktop\\streamlit\\de_env2\\lib\\site-packages (from click>=7.0->streamlit==1.22.0->-r requirements.txt (line 2)) (0.4.6)\n",
      "Requirement already satisfied: gitdb<5,>=4.0.1 in c:\\users\\wolfg\\onedrive\\desktop\\streamlit\\de_env2\\lib\\site-packages (from gitpython!=3.1.19->streamlit==1.22.0->-r requirements.txt (line 2)) (4.0.10)\n",
      "Requirement already satisfied: zipp>=0.5 in c:\\users\\wolfg\\onedrive\\desktop\\streamlit\\de_env2\\lib\\site-packages (from importlib-metadata>=1.4->streamlit==1.22.0->-r requirements.txt (line 2)) (3.16.2)\n",
      "Requirement already satisfied: pytz>=2020.1 in c:\\users\\wolfg\\onedrive\\desktop\\streamlit\\de_env2\\lib\\site-packages (from pandas<3,>=0.25->streamlit==1.22.0->-r requirements.txt (line 2)) (2023.3)\n",
      "Requirement already satisfied: tzdata>=2022.1 in c:\\users\\wolfg\\onedrive\\desktop\\streamlit\\de_env2\\lib\\site-packages (from pandas<3,>=0.25->streamlit==1.22.0->-r requirements.txt (line 2)) (2023.3)\n",
      "Requirement already satisfied: six>=1.5 in c:\\users\\wolfg\\onedrive\\desktop\\streamlit\\de_env2\\lib\\site-packages (from python-dateutil->streamlit==1.22.0->-r requirements.txt (line 2)) (1.16.0)\n",
      "Requirement already satisfied: certifi>=2017.4.17 in c:\\users\\wolfg\\onedrive\\desktop\\streamlit\\de_env2\\lib\\site-packages (from requests>=2.4->streamlit==1.22.0->-r requirements.txt (line 2)) (2023.7.22)\n",
      "Requirement already satisfied: charset-normalizer<4,>=2 in c:\\users\\wolfg\\onedrive\\desktop\\streamlit\\de_env2\\lib\\site-packages (from requests>=2.4->streamlit==1.22.0->-r requirements.txt (line 2)) (3.2.0)\n",
      "Requirement already satisfied: urllib3<3,>=1.21.1 in c:\\users\\wolfg\\onedrive\\desktop\\streamlit\\de_env2\\lib\\site-packages (from requests>=2.4->streamlit==1.22.0->-r requirements.txt (line 2)) (2.0.4)\n",
      "Requirement already satisfied: idna<4,>=2.5 in c:\\users\\wolfg\\onedrive\\desktop\\streamlit\\de_env2\\lib\\site-packages (from requests>=2.4->streamlit==1.22.0->-r requirements.txt (line 2)) (3.4)\n",
      "Requirement already satisfied: markdown-it-py>=2.2.0 in c:\\users\\wolfg\\onedrive\\desktop\\streamlit\\de_env2\\lib\\site-packages (from rich>=10.11.0->streamlit==1.22.0->-r requirements.txt (line 2)) (3.0.0)\n",
      "Requirement already satisfied: pygments<3.0.0,>=2.13.0 in c:\\users\\wolfg\\onedrive\\desktop\\streamlit\\de_env2\\lib\\site-packages (from rich>=10.11.0->streamlit==1.22.0->-r requirements.txt (line 2)) (2.16.1)\n",
      "Requirement already satisfied: smmap<6,>=3.0.1 in c:\\users\\wolfg\\onedrive\\desktop\\streamlit\\de_env2\\lib\\site-packages (from gitdb<5,>=4.0.1->gitpython!=3.1.19->streamlit==1.22.0->-r requirements.txt (line 2)) (5.0.0)\n",
      "Requirement already satisfied: MarkupSafe>=2.0 in c:\\users\\wolfg\\onedrive\\desktop\\streamlit\\de_env2\\lib\\site-packages (from jinja2->altair<5,>=3.2.0->streamlit==1.22.0->-r requirements.txt (line 2)) (2.1.3)\n",
      "Requirement already satisfied: jsonschema-specifications>=2023.03.6 in c:\\users\\wolfg\\onedrive\\desktop\\streamlit\\de_env2\\lib\\site-packages (from jsonschema>=3.0->altair<5,>=3.2.0->streamlit==1.22.0->-r requirements.txt (line 2)) (2023.7.1)\n",
      "Requirement already satisfied: referencing>=0.28.4 in c:\\users\\wolfg\\onedrive\\desktop\\streamlit\\de_env2\\lib\\site-packages (from jsonschema>=3.0->altair<5,>=3.2.0->streamlit==1.22.0->-r requirements.txt (line 2)) (0.30.2)\n",
      "Requirement already satisfied: attrs>=22.2.0 in c:\\users\\wolfg\\onedrive\\desktop\\streamlit\\de_env2\\lib\\site-packages (from jsonschema>=3.0->altair<5,>=3.2.0->streamlit==1.22.0->-r requirements.txt (line 2)) (23.1.0)\n",
      "Requirement already satisfied: rpds-py>=0.7.1 in c:\\users\\wolfg\\onedrive\\desktop\\streamlit\\de_env2\\lib\\site-packages (from jsonschema>=3.0->altair<5,>=3.2.0->streamlit==1.22.0->-r requirements.txt (line 2)) (0.9.2)\n",
      "Requirement already satisfied: mdurl~=0.1 in c:\\users\\wolfg\\onedrive\\desktop\\streamlit\\de_env2\\lib\\site-packages (from markdown-it-py>=2.2.0->rich>=10.11.0->streamlit==1.22.0->-r requirements.txt (line 2)) (0.1.2)\n",
      "Note: you may need to restart the kernel to use updated packages.\n"
     ]
    },
    {
     "name": "stderr",
     "output_type": "stream",
     "text": [
      "\n",
      "[notice] A new release of pip available: 22.3.1 -> 23.2.1\n",
      "[notice] To update, run: python.exe -m pip install --upgrade pip\n"
     ]
    }
   ],
   "source": [
    "pip install -r requirements.txt"
   ]
  },
  {
   "cell_type": "code",
   "execution_count": null,
   "metadata": {
    "id": "vOuO15G_yazh",
    "outputId": "9a53dc7c-0904-4ad0-b213-5123b5a85386"
   },
   "outputs": [],
   "source": [
    "#  pip list"
   ]
  },
  {
   "cell_type": "code",
   "execution_count": null,
   "metadata": {
    "id": "1zYfpWhhyazh",
    "outputId": "c45a4398-99a0-48a8-ada2-b898952acdfc"
   },
   "outputs": [],
   "source": [
    "!streamlit run my_app.py"
   ]
  },
  {
   "cell_type": "code",
   "execution_count": null,
   "metadata": {
    "id": "On_4dYy1yazh"
   },
   "outputs": [],
   "source": []
  }
 ],
 "metadata": {
  "colab": {
   "provenance": []
  },
  "kernelspec": {
   "display_name": "de_env2",
   "language": "python",
   "name": "python3"
  },
  "language_info": {
   "codemirror_mode": {
    "name": "ipython",
    "version": 3
   },
   "file_extension": ".py",
   "mimetype": "text/x-python",
   "name": "python",
   "nbconvert_exporter": "python",
   "pygments_lexer": "ipython3",
   "version": "3.10.9"
  },
  "vscode": {
   "interpreter": {
    "hash": "decd08d75b4f1c3f595c52c3e247e1d883b9f856db306115a26f534a80616323"
   }
  }
 },
 "nbformat": 4,
 "nbformat_minor": 1
}
